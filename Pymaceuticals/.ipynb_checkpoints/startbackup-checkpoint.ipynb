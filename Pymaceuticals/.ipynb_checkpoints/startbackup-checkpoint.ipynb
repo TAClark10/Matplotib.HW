{
 "cells": [
  {
   "cell_type": "markdown",
   "metadata": {},
   "source": [
    "## Observations and Insights "
   ]
  },
  {
   "cell_type": "markdown",
   "metadata": {},
   "source": []
  },
  {
   "cell_type": "code",
   "execution_count": 1,
   "metadata": {},
   "outputs": [
    {
     "data": {
      "text/html": [
       "<div>\n",
       "<style scoped>\n",
       "    .dataframe tbody tr th:only-of-type {\n",
       "        vertical-align: middle;\n",
       "    }\n",
       "\n",
       "    .dataframe tbody tr th {\n",
       "        vertical-align: top;\n",
       "    }\n",
       "\n",
       "    .dataframe thead th {\n",
       "        text-align: right;\n",
       "    }\n",
       "</style>\n",
       "<table border=\"1\" class=\"dataframe\">\n",
       "  <thead>\n",
       "    <tr style=\"text-align: right;\">\n",
       "      <th></th>\n",
       "      <th>Mouse ID</th>\n",
       "      <th>Timepoint</th>\n",
       "      <th>Tumor Volume (mm3)</th>\n",
       "      <th>Metastatic Sites</th>\n",
       "      <th>Drug Regimen</th>\n",
       "      <th>Sex</th>\n",
       "      <th>Age_months</th>\n",
       "      <th>Weight (g)</th>\n",
       "    </tr>\n",
       "  </thead>\n",
       "  <tbody>\n",
       "    <tr>\n",
       "      <th>0</th>\n",
       "      <td>b128</td>\n",
       "      <td>0</td>\n",
       "      <td>45.0</td>\n",
       "      <td>0</td>\n",
       "      <td>Capomulin</td>\n",
       "      <td>Female</td>\n",
       "      <td>9</td>\n",
       "      <td>22</td>\n",
       "    </tr>\n",
       "    <tr>\n",
       "      <th>1</th>\n",
       "      <td>f932</td>\n",
       "      <td>0</td>\n",
       "      <td>45.0</td>\n",
       "      <td>0</td>\n",
       "      <td>Ketapril</td>\n",
       "      <td>Male</td>\n",
       "      <td>15</td>\n",
       "      <td>29</td>\n",
       "    </tr>\n",
       "    <tr>\n",
       "      <th>2</th>\n",
       "      <td>g107</td>\n",
       "      <td>0</td>\n",
       "      <td>45.0</td>\n",
       "      <td>0</td>\n",
       "      <td>Ketapril</td>\n",
       "      <td>Female</td>\n",
       "      <td>2</td>\n",
       "      <td>29</td>\n",
       "    </tr>\n",
       "    <tr>\n",
       "      <th>3</th>\n",
       "      <td>a457</td>\n",
       "      <td>0</td>\n",
       "      <td>45.0</td>\n",
       "      <td>0</td>\n",
       "      <td>Ketapril</td>\n",
       "      <td>Female</td>\n",
       "      <td>11</td>\n",
       "      <td>30</td>\n",
       "    </tr>\n",
       "    <tr>\n",
       "      <th>4</th>\n",
       "      <td>c819</td>\n",
       "      <td>0</td>\n",
       "      <td>45.0</td>\n",
       "      <td>0</td>\n",
       "      <td>Ketapril</td>\n",
       "      <td>Male</td>\n",
       "      <td>21</td>\n",
       "      <td>25</td>\n",
       "    </tr>\n",
       "  </tbody>\n",
       "</table>\n",
       "</div>"
      ],
      "text/plain": [
       "  Mouse ID  Timepoint  Tumor Volume (mm3)  Metastatic Sites Drug Regimen  \\\n",
       "0     b128          0                45.0                 0    Capomulin   \n",
       "1     f932          0                45.0                 0     Ketapril   \n",
       "2     g107          0                45.0                 0     Ketapril   \n",
       "3     a457          0                45.0                 0     Ketapril   \n",
       "4     c819          0                45.0                 0     Ketapril   \n",
       "\n",
       "      Sex  Age_months  Weight (g)  \n",
       "0  Female           9          22  \n",
       "1    Male          15          29  \n",
       "2  Female           2          29  \n",
       "3  Female          11          30  \n",
       "4    Male          21          25  "
      ]
     },
     "execution_count": 1,
     "metadata": {},
     "output_type": "execute_result"
    }
   ],
   "source": [
    "# Dependencies and Setup\n",
    "import matplotlib.pyplot as plt\n",
    "import pandas as pd\n",
    "import scipy.stats as st\n",
    "import numpy as np\n",
    "from scipy.stats import linregress\n",
    "\n",
    "# Study data files\n",
    "mouse_metadata_path = \"data/Mouse_metadata.csv\"\n",
    "study_results_path = \"data/Study_results.csv\"\n",
    "\n",
    "# Read the mouse data and the study results\n",
    "mouse_metadata = pd.read_csv(mouse_metadata_path)\n",
    "study_results = pd.read_csv(study_results_path)\n",
    "\n",
    "# Combine the data into a single dataset\n",
    "Combined_data= pd.merge(study_results, mouse_metadata, how=\"left\", on=\"Mouse ID\")\n",
    "\n",
    "# Display the data table for preview\n",
    "Combined_data.head()\n",
    "\n",
    "\n",
    "\n"
   ]
  },
  {
   "cell_type": "code",
   "execution_count": 2,
   "metadata": {},
   "outputs": [
    {
     "data": {
      "text/plain": [
       "249"
      ]
     },
     "execution_count": 2,
     "metadata": {},
     "output_type": "execute_result"
    }
   ],
   "source": [
    "# Checking the number of mice.\n",
    "mice=Combined_data[\"Mouse ID\"].value_counts()\n",
    "number_of_mice=len(mice)\n",
    "number_of_mice"
   ]
  },
  {
   "cell_type": "code",
   "execution_count": 3,
   "metadata": {},
   "outputs": [
    {
     "name": "stdout",
     "output_type": "stream",
     "text": [
      "Mouse ID  Timepoint\n",
      "g989      15           2\n",
      "          0            2\n",
      "          10           2\n",
      "          5            2\n",
      "          20           2\n",
      "                      ..\n",
      "q610      30           1\n",
      "          35           1\n",
      "q633      0            1\n",
      "          5            1\n",
      "a203      0            1\n",
      "Length: 1888, dtype: int64\n"
     ]
    }
   ],
   "source": [
    "mice=Combined_data.value_counts([\"Mouse ID\",'Timepoint'])\n",
    "print(mice)"
   ]
  },
  {
   "cell_type": "code",
   "execution_count": 53,
   "metadata": {},
   "outputs": [
    {
     "name": "stdout",
     "output_type": "stream",
     "text": [
      "g989    13\n",
      "s337    10\n",
      "x401    10\n",
      "m550    10\n",
      "x773    10\n",
      "        ..\n",
      "l872     1\n",
      "n482     1\n",
      "d133     1\n",
      "v199     1\n",
      "x336     1\n",
      "Name: Mouse ID, Length: 249, dtype: int64\n"
     ]
    }
   ],
   "source": [
    "mice=Combined_data.index.value_counts()\n",
    "print(mice)\n",
    "\n"
   ]
  },
  {
   "cell_type": "code",
   "execution_count": 58,
   "metadata": {},
   "outputs": [
    {
     "name": "stdout",
     "output_type": "stream",
     "text": [
      "                    Tumor Volume (mm3)  Metastatic Sites  Drug Regimen  Sex  \\\n",
      "Mouse ID Timepoint                                                            \n",
      "a203     0                           1                 1             1    1   \n",
      "         5                           1                 1             1    1   \n",
      "         10                          1                 1             1    1   \n",
      "         15                          1                 1             1    1   \n",
      "         20                          1                 1             1    1   \n",
      "...                                ...               ...           ...  ...   \n",
      "z969     25                          1                 1             1    1   \n",
      "         30                          1                 1             1    1   \n",
      "         35                          1                 1             1    1   \n",
      "         40                          1                 1             1    1   \n",
      "         45                          1                 1             1    1   \n",
      "\n",
      "                    Age_months  Weight (g)  \n",
      "Mouse ID Timepoint                          \n",
      "a203     0                   1           1  \n",
      "         5                   1           1  \n",
      "         10                  1           1  \n",
      "         15                  1           1  \n",
      "         20                  1           1  \n",
      "...                        ...         ...  \n",
      "z969     25                  1           1  \n",
      "         30                  1           1  \n",
      "         35                  1           1  \n",
      "         40                  1           1  \n",
      "         45                  1           1  \n",
      "\n",
      "[1888 rows x 6 columns]\n"
     ]
    }
   ],
   "source": [
    "mice=Combined_data.groupby([\"Mouse ID\", \"Timepoint\"]).count()\n",
    "#print(duplicated_mice.duplicated([\"Timepoint\"]).value_counts())\n",
    "#print(mice.value_counts(ascending=False))\n",
    "print(mice)"
   ]
  },
  {
   "cell_type": "code",
   "execution_count": 59,
   "metadata": {},
   "outputs": [
    {
     "name": "stdout",
     "output_type": "stream",
     "text": [
      "Timepoint  Tumor Volume (mm3)  Metastatic Sites  Drug Regimen  Sex     Age_months  Weight (g)\n",
      "0          45.000000           0                 Infubinol     Male    23          26            3\n",
      "                                                 Placebo       Male    5           30            2\n",
      "                                                 Zoniferol     Male    5           30            2\n",
      "                                                 Ramicane      Male    11          16            2\n",
      "                                                 Placebo       Female  16          25            2\n",
      "                                                                                                ..\n",
      "25         58.098489           0                 Stelasyn      Male    3           30            1\n",
      "           58.214624           3                 Placebo       Female  13          26            1\n",
      "           58.269889           2                 Stelasyn      Female  1           27            1\n",
      "           58.335959           3                 Ceftamin      Female  6           27            1\n",
      "0          45.000000           0                 Capomulin     Female  1           23            1\n",
      "Length: 1875, dtype: int64\n"
     ]
    }
   ],
   "source": [
    "#duplicate mice\n",
    "duplicate_mice=Combined_data[Combined_data.duplicated(['Timepoint'])]\n",
    "print(duplicate_mice.value_counts())"
   ]
  },
  {
   "cell_type": "code",
   "execution_count": null,
   "metadata": {},
   "outputs": [],
   "source": [
    "duplicated=Combined_data[Combined_data.duplicated(['Mouse ID', 'Timepoint'],keep=False)]\n",
    "print(duplicated[\"Mouse ID\"].value_counts())\n",
    "print(Combined_data[\"Mouse ID\"].value_counts())"
   ]
  },
  {
   "cell_type": "code",
   "execution_count": null,
   "metadata": {},
   "outputs": [],
   "source": [
    "# Getting the duplicate mice by ID number that shows up for Mouse ID and Timepoint. \n",
    "duplicate_rows = Combined_data[Combined_data.duplicated(['Mouse ID', 'Timepoint'])]\n",
    "print(duplicate_rows.value_counts())\n",
    "\n"
   ]
  },
  {
   "cell_type": "code",
   "execution_count": 18,
   "metadata": {},
   "outputs": [
    {
     "name": "stdout",
     "output_type": "stream",
     "text": [
      "          Timepoint  Tumor Volume (mm3)  Metastatic Sites Drug Regimen  \\\n",
      "Mouse ID                                                                 \n",
      "g989              0           45.000000                 0     Propriva   \n",
      "g989              0           45.000000                 0     Propriva   \n",
      "g989              5           48.786801                 0     Propriva   \n",
      "g989              5           47.570392                 0     Propriva   \n",
      "g989             10           51.745156                 0     Propriva   \n",
      "g989             10           49.880528                 0     Propriva   \n",
      "g989             15           51.325852                 1     Propriva   \n",
      "g989             15           53.442020                 0     Propriva   \n",
      "g989             20           55.326122                 1     Propriva   \n",
      "g989             20           54.657650                 1     Propriva   \n",
      "g989             25           56.045564                 1     Propriva   \n",
      "g989             30           59.082294                 1     Propriva   \n",
      "g989             35           62.570880                 2     Propriva   \n",
      "\n",
      "             Sex  Age_months  Weight (g)  \n",
      "Mouse ID                                  \n",
      "g989      Female          21          26  \n",
      "g989      Female          21          26  \n",
      "g989      Female          21          26  \n",
      "g989      Female          21          26  \n",
      "g989      Female          21          26  \n",
      "g989      Female          21          26  \n",
      "g989      Female          21          26  \n",
      "g989      Female          21          26  \n",
      "g989      Female          21          26  \n",
      "g989      Female          21          26  \n",
      "g989      Female          21          26  \n",
      "g989      Female          21          26  \n",
      "g989      Female          21          26  \n"
     ]
    }
   ],
   "source": [
    "#print(Combined_data.head())\n",
    "print(Combined_data.loc[\"g989\"])\n",
    "#Combined_data=Combined_data.set_index(\"Mouse ID\")\n",
    "#duplicate_mice=pd.DataFrame(Combined_data.groupby([\"Mouse ID\"]))\n",
    "#print(duplicate_mice.head())"
   ]
  },
  {
   "cell_type": "code",
   "execution_count": null,
   "metadata": {},
   "outputs": [],
   "source": [
    "# Optional: Get all the data for the duplicate mouse ID. \n",
    "\n"
   ]
  },
  {
   "cell_type": "code",
   "execution_count": 48,
   "metadata": {},
   "outputs": [
    {
     "name": "stdout",
     "output_type": "stream",
     "text": [
      "Index(['b128', 'f932', 'g107', 'a457', 'c819', 'h246', 'p189', 'n923', 'q119',\n",
      "       'f993',\n",
      "       ...\n",
      "       't718', 'o562', 'i177', 'v991', 'z795', 'r944', 'u364', 'p438', 'x773',\n",
      "       'b879'],\n",
      "      dtype='object', name='Mouse ID', length=1893)\n",
      "[False False False ...  True  True  True]\n",
      "[ True  True  True ... False False False]\n",
      "          Timepoint  Tumor Volume (mm3)  Metastatic Sites Drug Regimen  \\\n",
      "Mouse ID                                                                 \n",
      "b128              0                45.0                 0    Capomulin   \n",
      "f932              0                45.0                 0     Ketapril   \n",
      "g107              0                45.0                 0     Ketapril   \n",
      "a457              0                45.0                 0     Ketapril   \n",
      "c819              0                45.0                 0     Ketapril   \n",
      "...             ...                 ...               ...          ...   \n",
      "t565              0                45.0                 0    Capomulin   \n",
      "i557              0                45.0                 0    Capomulin   \n",
      "m957              0                45.0                 0    Capomulin   \n",
      "f966              0                45.0                 0    Capomulin   \n",
      "m601              0                45.0                 0    Capomulin   \n",
      "\n",
      "             Sex  Age_months  Weight (g)  \n",
      "Mouse ID                                  \n",
      "b128      Female           9          22  \n",
      "f932        Male          15          29  \n",
      "g107      Female           2          29  \n",
      "a457      Female          11          30  \n",
      "c819        Male          21          25  \n",
      "...          ...         ...         ...  \n",
      "t565      Female          20          17  \n",
      "i557      Female           1          24  \n",
      "m957      Female           3          19  \n",
      "f966        Male          16          17  \n",
      "m601        Male          22          17  \n",
      "\n",
      "[249 rows x 7 columns]\n",
      "249\n"
     ]
    }
   ],
   "source": [
    "# Create a clean DataFrame by dropping the duplicate mouse by its ID.\n",
    "clean_df_indices=Combined_data.index.duplicated(keep=\"first\")\n",
    "print (Combined_data.index)\n",
    "print (clean_df_indices)\n",
    "print(~ clean_df_indices)\n",
    "\n",
    "clean_df=Combined_data[~clean_df_indices]\n",
    "print (clean_df)\n",
    "print (len(clean_df))"
   ]
  },
  {
   "cell_type": "code",
   "execution_count": 64,
   "metadata": {},
   "outputs": [
    {
     "name": "stdout",
     "output_type": "stream",
     "text": [
      "[False False False ...  True  True  True]\n",
      "13\n"
     ]
    }
   ],
   "source": [
    "print (clean_df_indices)\n",
    "clean_df=Combined_data[clean_df_indices]\n",
    "print(len(Combined_data.loc[\"g989\"]))"
   ]
  },
  {
   "cell_type": "code",
   "execution_count": 50,
   "metadata": {},
   "outputs": [
    {
     "name": "stdout",
     "output_type": "stream",
     "text": [
      "Timepoint              1\n",
      "Tumor Volume (mm3)     1\n",
      "Metastatic Sites       1\n",
      "Drug Regimen          10\n",
      "Sex                    2\n",
      "Age_months            24\n",
      "Weight (g)            16\n",
      "dtype: int64\n",
      "Index(['b128', 'f932', 'g107', 'a457', 'c819', 'h246', 'p189', 'n923', 'q119',\n",
      "       'f993',\n",
      "       ...\n",
      "       'y793', 'g316', 'g288', 'l897', 'w150', 't565', 'i557', 'm957', 'f966',\n",
      "       'm601'],\n",
      "      dtype='object', name='Mouse ID', length=249)\n",
      "Timepoint                    0\n",
      "Tumor Volume (mm3)          45\n",
      "Metastatic Sites             0\n",
      "Drug Regimen          Propriva\n",
      "Sex                     Female\n",
      "Age_months                  21\n",
      "Weight (g)                  26\n",
      "Name: g989, dtype: object\n"
     ]
    }
   ],
   "source": [
    "# Checking the number of mice in the clean DataFrame.\n",
    "#Combined_data.count_values()\n",
    "#print(Combined_data.count_values())\n",
    "print (clean_df.nunique())\n",
    "print(clean_df.index)\n",
    "print(clean_df.loc[\"g989\"])"
   ]
  },
  {
   "cell_type": "markdown",
   "metadata": {},
   "source": [
    "## Summary Statistics"
   ]
  },
  {
   "cell_type": "code",
   "execution_count": null,
   "metadata": {},
   "outputs": [],
   "source": []
  },
  {
   "cell_type": "code",
   "execution_count": null,
   "metadata": {},
   "outputs": [],
   "source": [
    "# Generate a summary statistics table of mean, median, variance, standard deviation, and SEM of the tumor volume for each regimen\n",
    "\n",
    "# Using the aggregation method, produce the same summary statistics in a single line\n"
   ]
  },
  {
   "cell_type": "markdown",
   "metadata": {},
   "source": [
    "## Bar and Pie Charts"
   ]
  },
  {
   "cell_type": "code",
   "execution_count": null,
   "metadata": {},
   "outputs": [],
   "source": []
  },
  {
   "cell_type": "code",
   "execution_count": null,
   "metadata": {},
   "outputs": [],
   "source": [
    "# Generate a bar plot showing the total number of measurements taken on each drug regimen using pyplot.\n",
    "\n"
   ]
  },
  {
   "cell_type": "code",
   "execution_count": null,
   "metadata": {},
   "outputs": [],
   "source": [
    "# Generate a pie plot showing the distribution of female versus male mice using pandas\n",
    "\n"
   ]
  },
  {
   "cell_type": "code",
   "execution_count": null,
   "metadata": {},
   "outputs": [],
   "source": [
    "# Generate a pie plot showing the distribution of female versus male mice using pyplot\n",
    "\n"
   ]
  },
  {
   "cell_type": "markdown",
   "metadata": {},
   "source": [
    "## Quartiles, Outliers and Boxplots"
   ]
  },
  {
   "cell_type": "code",
   "execution_count": null,
   "metadata": {},
   "outputs": [],
   "source": [
    "# Calculate the final tumor volume of each mouse across four of the treatment regimens:  \n",
    "# Capomulin, Ramicane, Infubinol, and Ceftamin\n",
    "\n",
    "# Start by getting the last (greatest) timepoint for each mouse\n",
    "\n",
    "\n",
    "# Merge this group df with the original dataframe to get the tumor volume at the last timepoint\n"
   ]
  },
  {
   "cell_type": "code",
   "execution_count": null,
   "metadata": {},
   "outputs": [],
   "source": [
    "# Put treatments into a list for for loop (and later for plot labels)\n",
    "\n",
    "\n",
    "# Create empty list to fill with tumor vol data (for plotting)\n",
    "\n",
    "\n",
    "# Calculate the IQR and quantitatively determine if there are any potential outliers. \n",
    "\n",
    "    \n",
    "    # Locate the rows which contain mice on each drug and get the tumor volumes\n",
    "    \n",
    "    \n",
    "    # add subset \n",
    "    \n",
    "    \n",
    "    # Determine outliers using upper and lower bounds\n",
    "    "
   ]
  },
  {
   "cell_type": "code",
   "execution_count": null,
   "metadata": {},
   "outputs": [],
   "source": [
    "# Generate a box plot of the final tumor volume of each mouse across four regimens of interest\n"
   ]
  },
  {
   "cell_type": "markdown",
   "metadata": {},
   "source": [
    "## Line and Scatter Plots"
   ]
  },
  {
   "cell_type": "code",
   "execution_count": null,
   "metadata": {},
   "outputs": [],
   "source": [
    "# Generate a line plot of tumor volume vs. time point for a mouse treated with Capomulin\n"
   ]
  },
  {
   "cell_type": "code",
   "execution_count": null,
   "metadata": {},
   "outputs": [],
   "source": [
    "# Generate a scatter plot of average tumor volume vs. mouse weight for the Capomulin regimen\n"
   ]
  },
  {
   "cell_type": "markdown",
   "metadata": {},
   "source": [
    "## Correlation and Regression"
   ]
  },
  {
   "cell_type": "code",
   "execution_count": null,
   "metadata": {},
   "outputs": [],
   "source": [
    "# Calculate the correlation coefficient and linear regression model \n",
    "# for mouse weight and average tumor volume for the Capomulin regimen\n"
   ]
  },
  {
   "cell_type": "code",
   "execution_count": null,
   "metadata": {},
   "outputs": [],
   "source": []
  }
 ],
 "metadata": {
  "anaconda-cloud": {},
  "kernelspec": {
   "display_name": "Python 3",
   "language": "python",
   "name": "python3"
  },
  "language_info": {
   "codemirror_mode": {
    "name": "ipython",
    "version": 3
   },
   "file_extension": ".py",
   "mimetype": "text/x-python",
   "name": "python",
   "nbconvert_exporter": "python",
   "pygments_lexer": "ipython3",
   "version": "3.8.5"
  }
 },
 "nbformat": 4,
 "nbformat_minor": 4
}
