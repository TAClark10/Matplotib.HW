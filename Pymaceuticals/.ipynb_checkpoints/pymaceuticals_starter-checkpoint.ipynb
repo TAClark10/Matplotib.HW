{
 "cells": [
  {
   "cell_type": "markdown",
   "metadata": {},
   "source": [
    "## Observations and Insights "
   ]
  },
  {
   "cell_type": "markdown",
   "metadata": {},
   "source": []
  },
  {
   "cell_type": "code",
   "execution_count": 1,
   "metadata": {},
   "outputs": [
    {
     "data": {
      "text/html": [
       "<div>\n",
       "<style scoped>\n",
       "    .dataframe tbody tr th:only-of-type {\n",
       "        vertical-align: middle;\n",
       "    }\n",
       "\n",
       "    .dataframe tbody tr th {\n",
       "        vertical-align: top;\n",
       "    }\n",
       "\n",
       "    .dataframe thead th {\n",
       "        text-align: right;\n",
       "    }\n",
       "</style>\n",
       "<table border=\"1\" class=\"dataframe\">\n",
       "  <thead>\n",
       "    <tr style=\"text-align: right;\">\n",
       "      <th></th>\n",
       "      <th>Mouse ID</th>\n",
       "      <th>Timepoint</th>\n",
       "      <th>Tumor Volume (mm3)</th>\n",
       "      <th>Metastatic Sites</th>\n",
       "      <th>Drug Regimen</th>\n",
       "      <th>Sex</th>\n",
       "      <th>Age_months</th>\n",
       "      <th>Weight (g)</th>\n",
       "    </tr>\n",
       "  </thead>\n",
       "  <tbody>\n",
       "    <tr>\n",
       "      <th>0</th>\n",
       "      <td>b128</td>\n",
       "      <td>0</td>\n",
       "      <td>45.0</td>\n",
       "      <td>0</td>\n",
       "      <td>Capomulin</td>\n",
       "      <td>Female</td>\n",
       "      <td>9</td>\n",
       "      <td>22</td>\n",
       "    </tr>\n",
       "    <tr>\n",
       "      <th>1</th>\n",
       "      <td>f932</td>\n",
       "      <td>0</td>\n",
       "      <td>45.0</td>\n",
       "      <td>0</td>\n",
       "      <td>Ketapril</td>\n",
       "      <td>Male</td>\n",
       "      <td>15</td>\n",
       "      <td>29</td>\n",
       "    </tr>\n",
       "    <tr>\n",
       "      <th>2</th>\n",
       "      <td>g107</td>\n",
       "      <td>0</td>\n",
       "      <td>45.0</td>\n",
       "      <td>0</td>\n",
       "      <td>Ketapril</td>\n",
       "      <td>Female</td>\n",
       "      <td>2</td>\n",
       "      <td>29</td>\n",
       "    </tr>\n",
       "    <tr>\n",
       "      <th>3</th>\n",
       "      <td>a457</td>\n",
       "      <td>0</td>\n",
       "      <td>45.0</td>\n",
       "      <td>0</td>\n",
       "      <td>Ketapril</td>\n",
       "      <td>Female</td>\n",
       "      <td>11</td>\n",
       "      <td>30</td>\n",
       "    </tr>\n",
       "    <tr>\n",
       "      <th>4</th>\n",
       "      <td>c819</td>\n",
       "      <td>0</td>\n",
       "      <td>45.0</td>\n",
       "      <td>0</td>\n",
       "      <td>Ketapril</td>\n",
       "      <td>Male</td>\n",
       "      <td>21</td>\n",
       "      <td>25</td>\n",
       "    </tr>\n",
       "  </tbody>\n",
       "</table>\n",
       "</div>"
      ],
      "text/plain": [
       "  Mouse ID  Timepoint  Tumor Volume (mm3)  Metastatic Sites Drug Regimen  \\\n",
       "0     b128          0                45.0                 0    Capomulin   \n",
       "1     f932          0                45.0                 0     Ketapril   \n",
       "2     g107          0                45.0                 0     Ketapril   \n",
       "3     a457          0                45.0                 0     Ketapril   \n",
       "4     c819          0                45.0                 0     Ketapril   \n",
       "\n",
       "      Sex  Age_months  Weight (g)  \n",
       "0  Female           9          22  \n",
       "1    Male          15          29  \n",
       "2  Female           2          29  \n",
       "3  Female          11          30  \n",
       "4    Male          21          25  "
      ]
     },
     "execution_count": 1,
     "metadata": {},
     "output_type": "execute_result"
    }
   ],
   "source": [
    "# Dependencies and Setup\n",
    "import matplotlib.pyplot as plt\n",
    "import pandas as pd\n",
    "import scipy.stats as st\n",
    "import numpy as np\n",
    "from scipy.stats import linregress\n",
    "\n",
    "# Study data files\n",
    "mouse_metadata_path = \"data/Mouse_metadata.csv\"\n",
    "study_results_path = \"data/Study_results.csv\"\n",
    "\n",
    "# Read the mouse data and the study results\n",
    "mouse_metadata = pd.read_csv(mouse_metadata_path)\n",
    "study_results = pd.read_csv(study_results_path)\n",
    "\n",
    "# Combine the data into a single dataset\n",
    "original_df= pd.merge(study_results, mouse_metadata, how=\"left\", on=\"Mouse ID\")\n",
    "\n",
    "# Display the data table for preview\n",
    "original_df.head()\n",
    "\n",
    "\n",
    "\n"
   ]
  },
  {
   "cell_type": "code",
   "execution_count": 4,
   "metadata": {},
   "outputs": [
    {
     "data": {
      "text/plain": [
       "249"
      ]
     },
     "execution_count": 4,
     "metadata": {},
     "output_type": "execute_result"
    }
   ],
   "source": [
    "# Checking the number of mice.\n",
    "mice=original_df[\"Mouse ID\"].value_counts()\n",
    "number_of_mice=len(mice)\n",
    "number_of_mice"
   ]
  },
  {
   "cell_type": "code",
   "execution_count": 5,
   "metadata": {},
   "outputs": [
    {
     "name": "stdout",
     "output_type": "stream",
     "text": [
      "1891    1\n",
      "1268    1\n",
      "1244    1\n",
      "1246    1\n",
      "1248    1\n",
      "       ..\n",
      "637     1\n",
      "639     1\n",
      "641     1\n",
      "643     1\n",
      "0       1\n",
      "Length: 1893, dtype: int64\n"
     ]
    }
   ],
   "source": [
    "mice=original_df.index.value_counts()\n",
    "print(mice)\n",
    "\n"
   ]
  },
  {
   "cell_type": "code",
   "execution_count": 6,
   "metadata": {},
   "outputs": [
    {
     "name": "stdout",
     "output_type": "stream",
     "text": [
      "1893\n"
     ]
    }
   ],
   "source": [
    "print(len(original_df))"
   ]
  },
  {
   "cell_type": "code",
   "execution_count": 7,
   "metadata": {},
   "outputs": [
    {
     "name": "stdout",
     "output_type": "stream",
     "text": [
      "Int64Index([   0,    1,    2,    3,    4,    5,    6,    7,    8,    9,\n",
      "            ...\n",
      "            1883, 1884, 1885, 1886, 1887, 1888, 1889, 1890, 1891, 1892],\n",
      "           dtype='int64', length=1893)\n"
     ]
    }
   ],
   "source": [
    "print(original_df.index)"
   ]
  },
  {
   "cell_type": "code",
   "execution_count": 8,
   "metadata": {},
   "outputs": [],
   "source": [
    "Combined_data=original_df.set_index(\"Mouse ID\")"
   ]
  },
  {
   "cell_type": "code",
   "execution_count": 7,
   "metadata": {},
   "outputs": [
    {
     "name": "stdout",
     "output_type": "stream",
     "text": [
      "Index(['b128', 'f932', 'g107', 'a457', 'c819', 'h246', 'p189', 'n923', 'q119',\n",
      "       'f993',\n",
      "       ...\n",
      "       't718', 'o562', 'i177', 'v991', 'z795', 'r944', 'u364', 'p438', 'x773',\n",
      "       'b879'],\n",
      "      dtype='object', name='Mouse ID', length=1893)\n"
     ]
    }
   ],
   "source": [
    "print(Combined_data.index)\n"
   ]
  },
  {
   "cell_type": "code",
   "execution_count": 8,
   "metadata": {},
   "outputs": [
    {
     "name": "stdout",
     "output_type": "stream",
     "text": [
      "          Timepoint  Tumor Volume (mm3)  Metastatic Sites Drug Regimen  \\\n",
      "Mouse ID                                                                 \n",
      "g989              0           45.000000                 0     Propriva   \n",
      "g989              0           45.000000                 0     Propriva   \n",
      "g989              5           48.786801                 0     Propriva   \n",
      "g989              5           47.570392                 0     Propriva   \n",
      "g989             10           51.745156                 0     Propriva   \n",
      "g989             10           49.880528                 0     Propriva   \n",
      "g989             15           51.325852                 1     Propriva   \n",
      "g989             15           53.442020                 0     Propriva   \n",
      "g989             20           55.326122                 1     Propriva   \n",
      "g989             20           54.657650                 1     Propriva   \n",
      "g989             25           56.045564                 1     Propriva   \n",
      "g989             30           59.082294                 1     Propriva   \n",
      "g989             35           62.570880                 2     Propriva   \n",
      "\n",
      "             Sex  Age_months  Weight (g)  \n",
      "Mouse ID                                  \n",
      "g989      Female          21          26  \n",
      "g989      Female          21          26  \n",
      "g989      Female          21          26  \n",
      "g989      Female          21          26  \n",
      "g989      Female          21          26  \n",
      "g989      Female          21          26  \n",
      "g989      Female          21          26  \n",
      "g989      Female          21          26  \n",
      "g989      Female          21          26  \n",
      "g989      Female          21          26  \n",
      "g989      Female          21          26  \n",
      "g989      Female          21          26  \n",
      "g989      Female          21          26  \n"
     ]
    }
   ],
   "source": [
    "#print(Combined_data.head())\n",
    "print(Combined_data.loc[\"g989\"])\n",
    "#Combined_data=Combined_data.set_index(\"Mouse ID\")\n",
    "#duplicate_mice=pd.DataFrame(Combined_data.groupby([\"Mouse ID\"]))\n",
    "#print(duplicate_mice.head())"
   ]
  },
  {
   "cell_type": "code",
   "execution_count": 9,
   "metadata": {},
   "outputs": [],
   "source": [
    "# Optional: Get all the data for the duplicate mouse ID. \n",
    "\n"
   ]
  },
  {
   "cell_type": "code",
   "execution_count": 10,
   "metadata": {},
   "outputs": [
    {
     "name": "stdout",
     "output_type": "stream",
     "text": [
      "          Timepoint  Tumor Volume (mm3)  Metastatic Sites Drug Regimen  \\\n",
      "Mouse ID                                                                 \n",
      "b128              0                45.0                 0    Capomulin   \n",
      "f932              0                45.0                 0     Ketapril   \n",
      "g107              0                45.0                 0     Ketapril   \n",
      "a457              0                45.0                 0     Ketapril   \n",
      "c819              0                45.0                 0     Ketapril   \n",
      "...             ...                 ...               ...          ...   \n",
      "t565              0                45.0                 0    Capomulin   \n",
      "i557              0                45.0                 0    Capomulin   \n",
      "m957              0                45.0                 0    Capomulin   \n",
      "f966              0                45.0                 0    Capomulin   \n",
      "m601              0                45.0                 0    Capomulin   \n",
      "\n",
      "             Sex  Age_months  Weight (g)  \n",
      "Mouse ID                                  \n",
      "b128      Female           9          22  \n",
      "f932        Male          15          29  \n",
      "g107      Female           2          29  \n",
      "a457      Female          11          30  \n",
      "c819        Male          21          25  \n",
      "...          ...         ...         ...  \n",
      "t565      Female          20          17  \n",
      "i557      Female           1          24  \n",
      "m957      Female           3          19  \n",
      "f966        Male          16          17  \n",
      "m601        Male          22          17  \n",
      "\n",
      "[249 rows x 7 columns]\n",
      "249\n"
     ]
    }
   ],
   "source": [
    "# Create a clean DataFrame by dropping the duplicate mouse by its ID.\n",
    "clean_df_indices=Combined_data.index.duplicated(keep=\"first\")\n",
    "clean_df=Combined_data[~clean_df_indices]\n",
    "print (clean_df)\n",
    "print (len(clean_df))"
   ]
  },
  {
   "cell_type": "code",
   "execution_count": 11,
   "metadata": {},
   "outputs": [],
   "source": [
    "#print (clean_df_indices)\n",
    "#clean_df=Combined_data[clean_df_indices]\n",
    "#print(len(Combined_data.loc[\"g989\"]))"
   ]
  },
  {
   "cell_type": "code",
   "execution_count": 12,
   "metadata": {},
   "outputs": [
    {
     "name": "stdout",
     "output_type": "stream",
     "text": [
      "Index(['b128', 'f932', 'g107', 'a457', 'c819', 'h246', 'p189', 'n923', 'q119',\n",
      "       'f993',\n",
      "       ...\n",
      "       'y793', 'g316', 'g288', 'l897', 'w150', 't565', 'i557', 'm957', 'f966',\n",
      "       'm601'],\n",
      "      dtype='object', name='Mouse ID', length=249)\n",
      "          Timepoint  Tumor Volume (mm3)  Metastatic Sites Drug Regimen  \\\n",
      "Mouse ID                                                                 \n",
      "b128              0                45.0                 0    Capomulin   \n",
      "f932              0                45.0                 0     Ketapril   \n",
      "g107              0                45.0                 0     Ketapril   \n",
      "a457              0                45.0                 0     Ketapril   \n",
      "c819              0                45.0                 0     Ketapril   \n",
      "\n",
      "             Sex  Age_months  Weight (g)  \n",
      "Mouse ID                                  \n",
      "b128      Female           9          22  \n",
      "f932        Male          15          29  \n",
      "g107      Female           2          29  \n",
      "a457      Female          11          30  \n",
      "c819        Male          21          25  \n",
      "Timepoint                    0\n",
      "Tumor Volume (mm3)          45\n",
      "Metastatic Sites             0\n",
      "Drug Regimen          Propriva\n",
      "Sex                     Female\n",
      "Age_months                  21\n",
      "Weight (g)                  26\n",
      "Name: g989, dtype: object\n"
     ]
    }
   ],
   "source": [
    "# Checking the number of mice in the clean DataFrame.\n",
    "#Combined_data.count_values()\n",
    "#print(Combined_data.count_values())\n",
    "#print (clean_df.nunique())\n",
    "print(clean_df.index)\n",
    "print(clean_df.head())\n",
    "#Combined_data=clean_df.set_index(\"Mouse ID\")\n",
    "print(clean_df.loc[\"g989\"])"
   ]
  },
  {
   "cell_type": "markdown",
   "metadata": {},
   "source": [
    "## Summary Statistics"
   ]
  },
  {
   "cell_type": "code",
   "execution_count": null,
   "metadata": {},
   "outputs": [],
   "source": []
  },
  {
   "cell_type": "code",
   "execution_count": 13,
   "metadata": {},
   "outputs": [
    {
     "data": {
      "text/html": [
       "<div>\n",
       "<style scoped>\n",
       "    .dataframe tbody tr th:only-of-type {\n",
       "        vertical-align: middle;\n",
       "    }\n",
       "\n",
       "    .dataframe tbody tr th {\n",
       "        vertical-align: top;\n",
       "    }\n",
       "\n",
       "    .dataframe thead th {\n",
       "        text-align: right;\n",
       "    }\n",
       "</style>\n",
       "<table border=\"1\" class=\"dataframe\">\n",
       "  <thead>\n",
       "    <tr style=\"text-align: right;\">\n",
       "      <th></th>\n",
       "      <th>mean</th>\n",
       "      <th>median</th>\n",
       "      <th>var</th>\n",
       "      <th>std</th>\n",
       "      <th>sem</th>\n",
       "    </tr>\n",
       "    <tr>\n",
       "      <th>Drug Regimen</th>\n",
       "      <th></th>\n",
       "      <th></th>\n",
       "      <th></th>\n",
       "      <th></th>\n",
       "      <th></th>\n",
       "    </tr>\n",
       "  </thead>\n",
       "  <tbody>\n",
       "    <tr>\n",
       "      <th>Capomulin</th>\n",
       "      <td>40.675741</td>\n",
       "      <td>41.557809</td>\n",
       "      <td>24.947764</td>\n",
       "      <td>4.994774</td>\n",
       "      <td>0.329346</td>\n",
       "    </tr>\n",
       "    <tr>\n",
       "      <th>Ceftamin</th>\n",
       "      <td>52.591172</td>\n",
       "      <td>51.776157</td>\n",
       "      <td>39.290177</td>\n",
       "      <td>6.268188</td>\n",
       "      <td>0.469821</td>\n",
       "    </tr>\n",
       "    <tr>\n",
       "      <th>Infubinol</th>\n",
       "      <td>52.884795</td>\n",
       "      <td>51.820584</td>\n",
       "      <td>43.128684</td>\n",
       "      <td>6.567243</td>\n",
       "      <td>0.492236</td>\n",
       "    </tr>\n",
       "    <tr>\n",
       "      <th>Ketapril</th>\n",
       "      <td>55.235638</td>\n",
       "      <td>53.698743</td>\n",
       "      <td>68.553577</td>\n",
       "      <td>8.279709</td>\n",
       "      <td>0.603860</td>\n",
       "    </tr>\n",
       "    <tr>\n",
       "      <th>Naftisol</th>\n",
       "      <td>54.331565</td>\n",
       "      <td>52.509285</td>\n",
       "      <td>66.173479</td>\n",
       "      <td>8.134708</td>\n",
       "      <td>0.596466</td>\n",
       "    </tr>\n",
       "    <tr>\n",
       "      <th>Placebo</th>\n",
       "      <td>54.033581</td>\n",
       "      <td>52.288934</td>\n",
       "      <td>61.168083</td>\n",
       "      <td>7.821003</td>\n",
       "      <td>0.581331</td>\n",
       "    </tr>\n",
       "    <tr>\n",
       "      <th>Propriva</th>\n",
       "      <td>52.322552</td>\n",
       "      <td>50.854632</td>\n",
       "      <td>42.351070</td>\n",
       "      <td>6.507770</td>\n",
       "      <td>0.512884</td>\n",
       "    </tr>\n",
       "    <tr>\n",
       "      <th>Ramicane</th>\n",
       "      <td>40.216745</td>\n",
       "      <td>40.673236</td>\n",
       "      <td>23.486704</td>\n",
       "      <td>4.846308</td>\n",
       "      <td>0.320955</td>\n",
       "    </tr>\n",
       "    <tr>\n",
       "      <th>Stelasyn</th>\n",
       "      <td>54.233149</td>\n",
       "      <td>52.431737</td>\n",
       "      <td>59.450562</td>\n",
       "      <td>7.710419</td>\n",
       "      <td>0.573111</td>\n",
       "    </tr>\n",
       "    <tr>\n",
       "      <th>Zoniferol</th>\n",
       "      <td>53.236507</td>\n",
       "      <td>51.818479</td>\n",
       "      <td>48.533355</td>\n",
       "      <td>6.966589</td>\n",
       "      <td>0.516398</td>\n",
       "    </tr>\n",
       "  </tbody>\n",
       "</table>\n",
       "</div>"
      ],
      "text/plain": [
       "                   mean     median        var       std       sem\n",
       "Drug Regimen                                                     \n",
       "Capomulin     40.675741  41.557809  24.947764  4.994774  0.329346\n",
       "Ceftamin      52.591172  51.776157  39.290177  6.268188  0.469821\n",
       "Infubinol     52.884795  51.820584  43.128684  6.567243  0.492236\n",
       "Ketapril      55.235638  53.698743  68.553577  8.279709  0.603860\n",
       "Naftisol      54.331565  52.509285  66.173479  8.134708  0.596466\n",
       "Placebo       54.033581  52.288934  61.168083  7.821003  0.581331\n",
       "Propriva      52.322552  50.854632  42.351070  6.507770  0.512884\n",
       "Ramicane      40.216745  40.673236  23.486704  4.846308  0.320955\n",
       "Stelasyn      54.233149  52.431737  59.450562  7.710419  0.573111\n",
       "Zoniferol     53.236507  51.818479  48.533355  6.966589  0.516398"
      ]
     },
     "execution_count": 13,
     "metadata": {},
     "output_type": "execute_result"
    }
   ],
   "source": [
    "# Generate a summary statistics table of mean, median, variance, standard deviation, and SEM of the tumor volume for each regimen\n",
    "\n",
    "# Using the aggregation method, produce the same summary statistics in a single line\n",
    "regimen_mean = Combined_data.groupby('Drug Regimen').mean()[\"Tumor Volume (mm3)\"]\n",
    "regimen_mean\n",
    "\n",
    "\n",
    "regimen_median = Combined_data.groupby('Drug Regimen').median()[\"Tumor Volume (mm3)\"]\n",
    "regimen_median\n",
    "\n",
    "\n",
    "regimen_variance = Combined_data.groupby('Drug Regimen').var()[\"Tumor Volume (mm3)\"]\n",
    "regimen_variance\n",
    "\n",
    "\n",
    "regimen_std = Combined_data.groupby('Drug Regimen').std()[\"Tumor Volume (mm3)\"]\n",
    "regimen_std\n",
    "\n",
    "regimen_sem = Combined_data.groupby('Drug Regimen').sem()[\"Tumor Volume (mm3)\"]\n",
    "regimen_sem\n",
    "\n",
    "single_group_by = Combined_data.groupby('Drug Regimen')\n",
    "summary_stats_table_2 = single_group_by.agg(['mean','median','var','std','sem'])[\"Tumor Volume (mm3)\"]\n",
    "summary_stats_table_2\n",
    "\n",
    "\n",
    "\n"
   ]
  },
  {
   "cell_type": "markdown",
   "metadata": {},
   "source": [
    "## Bar and Pie Charts"
   ]
  },
  {
   "cell_type": "code",
   "execution_count": 14,
   "metadata": {
    "scrolled": true
   },
   "outputs": [
    {
     "name": "stdout",
     "output_type": "stream",
     "text": [
      "['Zoniferol', 'Placebo', 'Propriva', 'Ketapril', 'Infubinol', 'Naftisol', 'Ceftamin', 'Capomulin', 'Ramicane', 'Stelasyn']\n"
     ]
    },
    {
     "data": {
      "image/png": "[encoded data removed]",
      "text/plain": [
       "<Figure size 720x360 with 1 Axes>"
      ]
     },
     "metadata": {
      "needs_background": "light"
     },
     "output_type": "display_data"
    }
   ],
   "source": [
    "# Generate a bar plot showing the total number of measurements taken on each drug regimen using pyplot.\n",
    "drug_index= (clean_df[\"Drug Regimen\"].value_counts())\n",
    "xvalues=drug_index.index.tolist()\n",
    "print (xvalues)\n",
    "plt.figure(figsize=(10,5))\n",
    "plt.title(\"Mouse Counts by Drug Regimen\")\n",
    "plt.ylabel(\"Mice Count\")\n",
    "plt.xlabel(\"Drug Regimen\")\n",
    "drug_bar_chart=plt.bar(xvalues,drug_index, color=\"green\")\n",
    "plt.xticks(rotation=90)\n",
    "plt.show()\n",
    "\n"
   ]
  },
  {
   "cell_type": "code",
   "execution_count": 15,
   "metadata": {},
   "outputs": [
    {
     "name": "stdout",
     "output_type": "stream",
     "text": [
      "Male      50.2\n",
      "Female    49.8\n",
      "Name: Sex, dtype: float64\n",
      "['Male', 'Female']\n"
     ]
    },
    {
     "data": {
      "image/png": "[encoded data removed]",
      "text/plain": [
       "<Figure size 360x360 with 1 Axes>"
      ]
     },
     "metadata": {},
     "output_type": "display_data"
    }
   ],
   "source": [
    "# Generate a pie plot showing the distribution of female versus male mice using pandas\n",
    "num_gender=clean_df[\"Sex\"].value_counts(normalize=True).mul(100).round(1)\n",
    "print (num_gender)\n",
    "labels=num_gender.index.tolist()\n",
    "print (labels)\n",
    "gender_data_frame=pd.DataFrame(data={\"Sex\":[num_gender[0],num_gender[1]]},index=[labels[0],labels[1]])\n",
    "gender_data_frame.head()\n",
    "gender_plot=gender_data_frame.plot.pie(y=\"Sex\",figsize=(5,5),title=\"Drug Regimen by Sex\")"
   ]
  },
  {
   "cell_type": "code",
   "execution_count": 16,
   "metadata": {},
   "outputs": [
    {
     "data": {
      "image/png": "[encoded data removed]",
      "text/plain": [
       "<Figure size 432x288 with 1 Axes>"
      ]
     },
     "metadata": {},
     "output_type": "display_data"
    }
   ],
   "source": [
    "# Generate a pie plot showing the distribution of female versus male mice using pyplot\n",
    "plt.pie(num_gender,labels=labels,autopct=\"%1.1f%%\")\n",
    "plt.title(\"Durg Regimen by Sex\")\n",
    "plt.show()"
   ]
  },
  {
   "cell_type": "markdown",
   "metadata": {},
   "source": [
    "## Quartiles, Outliers and Boxplots"
   ]
  },
  {
   "cell_type": "code",
   "execution_count": 32,
   "metadata": {},
   "outputs": [
    {
     "data": {
      "text/html": [
       "<div>\n",
       "<style scoped>\n",
       "    .dataframe tbody tr th:only-of-type {\n",
       "        vertical-align: middle;\n",
       "    }\n",
       "\n",
       "    .dataframe tbody tr th {\n",
       "        vertical-align: top;\n",
       "    }\n",
       "\n",
       "    .dataframe thead th {\n",
       "        text-align: right;\n",
       "    }\n",
       "</style>\n",
       "<table border=\"1\" class=\"dataframe\">\n",
       "  <thead>\n",
       "    <tr style=\"text-align: right;\">\n",
       "      <th></th>\n",
       "      <th>Timepoint</th>\n",
       "    </tr>\n",
       "    <tr>\n",
       "      <th>Mouse ID</th>\n",
       "      <th></th>\n",
       "    </tr>\n",
       "  </thead>\n",
       "  <tbody>\n",
       "    <tr>\n",
       "      <th>b128</th>\n",
       "      <td>45</td>\n",
       "    </tr>\n",
       "    <tr>\n",
       "      <th>c326</th>\n",
       "      <td>5</td>\n",
       "    </tr>\n",
       "    <tr>\n",
       "      <th>c139</th>\n",
       "      <td>45</td>\n",
       "    </tr>\n",
       "    <tr>\n",
       "      <th>v339</th>\n",
       "      <td>5</td>\n",
       "    </tr>\n",
       "    <tr>\n",
       "      <th>a577</th>\n",
       "      <td>30</td>\n",
       "    </tr>\n",
       "    <tr>\n",
       "      <th>...</th>\n",
       "      <td>...</td>\n",
       "    </tr>\n",
       "    <tr>\n",
       "      <th>a644</th>\n",
       "      <td>45</td>\n",
       "    </tr>\n",
       "    <tr>\n",
       "      <th>i177</th>\n",
       "      <td>45</td>\n",
       "    </tr>\n",
       "    <tr>\n",
       "      <th>r944</th>\n",
       "      <td>45</td>\n",
       "    </tr>\n",
       "    <tr>\n",
       "      <th>u364</th>\n",
       "      <td>45</td>\n",
       "    </tr>\n",
       "    <tr>\n",
       "      <th>p438</th>\n",
       "      <td>45</td>\n",
       "    </tr>\n",
       "  </tbody>\n",
       "</table>\n",
       "<p>814 rows × 1 columns</p>\n",
       "</div>"
      ],
      "text/plain": [
       "          Timepoint\n",
       "Mouse ID           \n",
       "b128             45\n",
       "c326              5\n",
       "c139             45\n",
       "v339              5\n",
       "a577             30\n",
       "...             ...\n",
       "a644             45\n",
       "i177             45\n",
       "r944             45\n",
       "u364             45\n",
       "p438             45\n",
       "\n",
       "[814 rows x 1 columns]"
      ]
     },
     "execution_count": 32,
     "metadata": {},
     "output_type": "execute_result"
    }
   ],
   "source": [
    "# Calculate the final tumor volume of each mouse across four of the treatment regimens:  \n",
    "# Capomulin, Ramicane, Infubinol, and Ceftamin\n",
    "\n",
    "# Start by getting the last (greatest) timepoint for each mouse\n",
    "\n",
    "\n",
    "# Merge this group df with the original dataframe to get the tumor volume at the last timepoint\n",
    "#Combined_data.head()\n",
    "#print (Combined_data[\"Timepoint\"].value_counts())\n",
    "#(Combined_data.groupby([\"Mouse ID\"])).describe()\n",
    "options = ['Capomulin', 'Ramicane', 'Infubinol', 'Ceftamin']\n",
    "df_filter =  Combined_data[Combined_data['Drug Regimen'].isin(options)]\n",
    "Combined_data.loc[\"g989\"]\n",
    "mice_names= df_filter.index\n",
    "maxtime=[]\n",
    "reindexed = study_results.set_index('Mouse ID')\n",
    "for i in range( len(df_filter)):\n",
    "    df= reindexed.loc[[mice_names[i]]]    \n",
    "    max_value= df[\"Timepoint\"].max()\n",
    "    maxtime.append(max_value)\n",
    "    #print(str(i)+\" : \"+mice_names[i]+\" : \"+str(max_value))\n",
    "d = {'Timepoint': maxtime}\n",
    "df = pd.DataFrame(data=d,index=mice_names)\n",
    "df\n",
    "\n",
    "\n",
    "\n",
    "    "
   ]
  },
  {
   "cell_type": "code",
   "execution_count": 51,
   "metadata": {},
   "outputs": [
    {
     "data": {
      "text/html": [
       "<div>\n",
       "<style scoped>\n",
       "    .dataframe tbody tr th:only-of-type {\n",
       "        vertical-align: middle;\n",
       "    }\n",
       "\n",
       "    .dataframe tbody tr th {\n",
       "        vertical-align: top;\n",
       "    }\n",
       "\n",
       "    .dataframe thead th {\n",
       "        text-align: right;\n",
       "    }\n",
       "</style>\n",
       "<table border=\"1\" class=\"dataframe\">\n",
       "  <thead>\n",
       "    <tr style=\"text-align: right;\">\n",
       "      <th></th>\n",
       "      <th>Timepoint</th>\n",
       "      <th>Tumor Volume (mm3)</th>\n",
       "      <th>Metastatic Sites</th>\n",
       "      <th>Drug Regimen</th>\n",
       "      <th>Sex</th>\n",
       "      <th>Age_months</th>\n",
       "      <th>Weight (g)</th>\n",
       "    </tr>\n",
       "    <tr>\n",
       "      <th>Mouse ID</th>\n",
       "      <th></th>\n",
       "      <th></th>\n",
       "      <th></th>\n",
       "      <th></th>\n",
       "      <th></th>\n",
       "      <th></th>\n",
       "      <th></th>\n",
       "    </tr>\n",
       "  </thead>\n",
       "  <tbody>\n",
       "    <tr>\n",
       "      <th>u153</th>\n",
       "      <td>0</td>\n",
       "      <td>45.000000</td>\n",
       "      <td>0</td>\n",
       "      <td>Ceftamin</td>\n",
       "      <td>Female</td>\n",
       "      <td>11</td>\n",
       "      <td>25</td>\n",
       "    </tr>\n",
       "    <tr>\n",
       "      <th>b447</th>\n",
       "      <td>0</td>\n",
       "      <td>45.000000</td>\n",
       "      <td>0</td>\n",
       "      <td>Ceftamin</td>\n",
       "      <td>Male</td>\n",
       "      <td>2</td>\n",
       "      <td>30</td>\n",
       "    </tr>\n",
       "    <tr>\n",
       "      <th>x226</th>\n",
       "      <td>0</td>\n",
       "      <td>45.000000</td>\n",
       "      <td>0</td>\n",
       "      <td>Ceftamin</td>\n",
       "      <td>Male</td>\n",
       "      <td>23</td>\n",
       "      <td>28</td>\n",
       "    </tr>\n",
       "    <tr>\n",
       "      <th>t573</th>\n",
       "      <td>0</td>\n",
       "      <td>45.000000</td>\n",
       "      <td>0</td>\n",
       "      <td>Ceftamin</td>\n",
       "      <td>Female</td>\n",
       "      <td>15</td>\n",
       "      <td>27</td>\n",
       "    </tr>\n",
       "    <tr>\n",
       "      <th>c326</th>\n",
       "      <td>5</td>\n",
       "      <td>36.321346</td>\n",
       "      <td>0</td>\n",
       "      <td>Infubinol</td>\n",
       "      <td>Female</td>\n",
       "      <td>18</td>\n",
       "      <td>25</td>\n",
       "    </tr>\n",
       "    <tr>\n",
       "      <th>...</th>\n",
       "      <td>...</td>\n",
       "      <td>...</td>\n",
       "      <td>...</td>\n",
       "      <td>...</td>\n",
       "      <td>...</td>\n",
       "      <td>...</td>\n",
       "      <td>...</td>\n",
       "    </tr>\n",
       "    <tr>\n",
       "      <th>a644</th>\n",
       "      <td>45</td>\n",
       "      <td>32.978522</td>\n",
       "      <td>1</td>\n",
       "      <td>Ramicane</td>\n",
       "      <td>Female</td>\n",
       "      <td>7</td>\n",
       "      <td>17</td>\n",
       "    </tr>\n",
       "    <tr>\n",
       "      <th>i177</th>\n",
       "      <td>45</td>\n",
       "      <td>33.562402</td>\n",
       "      <td>3</td>\n",
       "      <td>Ramicane</td>\n",
       "      <td>Male</td>\n",
       "      <td>10</td>\n",
       "      <td>18</td>\n",
       "    </tr>\n",
       "    <tr>\n",
       "      <th>r944</th>\n",
       "      <td>45</td>\n",
       "      <td>41.581521</td>\n",
       "      <td>2</td>\n",
       "      <td>Capomulin</td>\n",
       "      <td>Male</td>\n",
       "      <td>12</td>\n",
       "      <td>25</td>\n",
       "    </tr>\n",
       "    <tr>\n",
       "      <th>u364</th>\n",
       "      <td>45</td>\n",
       "      <td>31.023923</td>\n",
       "      <td>3</td>\n",
       "      <td>Capomulin</td>\n",
       "      <td>Male</td>\n",
       "      <td>18</td>\n",
       "      <td>17</td>\n",
       "    </tr>\n",
       "    <tr>\n",
       "      <th>p438</th>\n",
       "      <td>45</td>\n",
       "      <td>61.433892</td>\n",
       "      <td>1</td>\n",
       "      <td>Ceftamin</td>\n",
       "      <td>Female</td>\n",
       "      <td>11</td>\n",
       "      <td>26</td>\n",
       "    </tr>\n",
       "  </tbody>\n",
       "</table>\n",
       "<p>100 rows × 7 columns</p>\n",
       "</div>"
      ],
      "text/plain": [
       "          Timepoint  Tumor Volume (mm3)  Metastatic Sites Drug Regimen  \\\n",
       "Mouse ID                                                                 \n",
       "u153              0           45.000000                 0     Ceftamin   \n",
       "b447              0           45.000000                 0     Ceftamin   \n",
       "x226              0           45.000000                 0     Ceftamin   \n",
       "t573              0           45.000000                 0     Ceftamin   \n",
       "c326              5           36.321346                 0    Infubinol   \n",
       "...             ...                 ...               ...          ...   \n",
       "a644             45           32.978522                 1     Ramicane   \n",
       "i177             45           33.562402                 3     Ramicane   \n",
       "r944             45           41.581521                 2    Capomulin   \n",
       "u364             45           31.023923                 3    Capomulin   \n",
       "p438             45           61.433892                 1     Ceftamin   \n",
       "\n",
       "             Sex  Age_months  Weight (g)  \n",
       "Mouse ID                                  \n",
       "u153      Female          11          25  \n",
       "b447        Male           2          30  \n",
       "x226        Male          23          28  \n",
       "t573      Female          15          27  \n",
       "c326      Female          18          25  \n",
       "...          ...         ...         ...  \n",
       "a644      Female           7          17  \n",
       "i177        Male          10          18  \n",
       "r944        Male          12          25  \n",
       "u364        Male          18          17  \n",
       "p438      Female          11          26  \n",
       "\n",
       "[100 rows x 7 columns]"
      ]
     },
     "execution_count": 51,
     "metadata": {},
     "output_type": "execute_result"
    }
   ],
   "source": [
    "\n",
    "   #greatest timepoint  \n",
    "#0     1     \n",
    "#1     2     \n",
    "    \n",
    "    \n",
    "\n",
    "\n",
    "# Combine the data into a single dataset\n",
    "max_df= pd.merge(df_filter,df,how = 'inner',on=[ 'Timepoint', 'Mouse ID']).drop_duplicates()\n",
    "max_df"
   ]
  },
  {
   "cell_type": "code",
   "execution_count": 19,
   "metadata": {
    "scrolled": false
   },
   "outputs": [
    {
     "name": "stdout",
     "output_type": "stream",
     "text": [
      "['Capomulin', 'Ramicane', 'Ketapril', 'Naftisol', 'Zoniferol', 'Stelasyn', 'Placebo', 'Ceftamin', 'Infubinol', 'Propriva']\n",
      "Output of forloop\n",
      "Capomulin\n",
      "sum is\n",
      "1125.0\n",
      "45.0\n",
      "45.0\n",
      "[]\n",
      "Ramicane\n",
      "sum is\n",
      "1125.0\n",
      "45.0\n",
      "45.0\n",
      "[]\n",
      "Ketapril\n",
      "sum is\n",
      "1125.0\n",
      "45.0\n",
      "45.0\n",
      "[]\n",
      "Naftisol\n",
      "sum is\n",
      "1125.0\n",
      "45.0\n",
      "45.0\n",
      "[]\n",
      "Zoniferol\n",
      "sum is\n",
      "1125.0\n",
      "45.0\n",
      "45.0\n",
      "[]\n",
      "Stelasyn\n",
      "sum is\n",
      "1080.0\n",
      "45.0\n",
      "45.0\n",
      "[]\n",
      "Placebo\n",
      "sum is\n",
      "1125.0\n",
      "45.0\n",
      "45.0\n",
      "[]\n",
      "Ceftamin\n",
      "sum is\n",
      "1125.0\n",
      "45.0\n",
      "45.0\n",
      "[]\n",
      "Infubinol\n",
      "sum is\n",
      "1125.0\n",
      "45.0\n",
      "45.0\n",
      "[]\n",
      "Propriva\n",
      "sum is\n",
      "1125.0\n",
      "45.0\n",
      "45.0\n",
      "[]\n"
     ]
    }
   ],
   "source": [
    "# Put treatments into a list for for loop (and later for plot labels)\n",
    "\n",
    "Treatments=(Combined_data[\"Drug Regimen\"].value_counts())\n",
    "#print (Combined_data[\"Drug Regimen\"].value_counts())\n",
    "#print (Treatments.index)\n",
    "\n",
    "Treatments2=(clean_df[\"Drug Regimen\"].value_counts())\n",
    "#print (clean_df[\"Drug Regimen\"].value_counts())\n",
    "#print (Treatments2.index)\n",
    "#print (Treatments2.index.size)\n",
    "#print (Treatments2.to_list())\n",
    "#print (Treatments2.index.to_list())\n",
    "#print (Treatments.index.to_list())\n",
    "Drug_Names=Treatments.index.to_list()\n",
    "print (Drug_Names)\n",
    "# Create empty list to fill with tumor vol data (for plotting)\n",
    "Tumor_vol_data=[]\n",
    "#print (Tumor_vol_data)\n",
    "#print (len(Tumor_vol_data))\n",
    "#Tumor_vol_data.append(10.5)\n",
    "#print (Tumor_vol_data)\n",
    "#print (len(Tumor_vol_data))\n",
    "#Tumor_vol_data.append(27)\n",
    "#print(len(Tumor_vol_data))\n",
    "#print (Tumor_vol_data)\n",
    "\n",
    "print (\"Output of forloop\")\n",
    "# Calculate the IQR and quantitatively determine if there are any potential outliers. \n",
    "for i in Drug_Names:\n",
    "    print (i)\n",
    "    #print(clean_df.loc[clean_df[\"Drug Regimen\"]==i,[\"Tumor Volume (mm3)\"]])\n",
    "    Drug_Volumes=(clean_df.loc[clean_df[\"Drug Regimen\"]==i,[\"Tumor Volume (mm3)\"]])\n",
    "    Drug_Values= (Drug_Volumes.values)\n",
    "   # print (Drug_Values)\n",
    "    sum=np.sum(Drug_Values) \n",
    "    print(\"sum is\")\n",
    "    print(sum)\n",
    "    Q1=np.percentile(Drug_Values,25)\n",
    "    print(Q1)\n",
    "    Q3=np.percentile(Drug_Values,75)\n",
    "    print(Q3)\n",
    "    IQR=Q3-Q1\n",
    "    lower_bound=Q1-1.5*IQR\n",
    "    upper_bound=Q3+1.5*IQR\n",
    "    Outliers=[Value for x in Drug_Values if x > upper_bound or x < lower_bound]\n",
    "    print(Outliers)\n",
    "    #df.loc[df['shield'] > 6, ['max_speed']]\n",
    "    \n",
    "    \n",
    "    #df.loc[df['shield'] > 6]\n",
    "    #Tumor_vol_data.append(9)\n",
    "    \n",
    "#print (Tumor_vol_data)\n",
    "#print (len(Tumor_vol_data))\n",
    "#print (clean_df.columns) \n",
    "#print (clean_df)\n",
    "    # Locate the rows which contain mice on each drug and get the tumor volumes\n",
    "    \n",
    "    \n",
    "    # add subset \n",
    "    \n",
    "    \n",
    "    # Determine outliers using upper and lower bounds\n",
    "    "
   ]
  },
  {
   "cell_type": "code",
   "execution_count": 77,
   "metadata": {},
   "outputs": [
    {
     "data": {
      "text/plain": [
       "<AxesSubplot:title={'center':'Tumor Volume (mm3)'}, xlabel='Drug Regimen'>"
      ]
     },
     "execution_count": 77,
     "metadata": {},
     "output_type": "execute_result"
    },
    {
     "data": {
      "image/png": "[encoded data removed]",
      "text/plain": [
       "<Figure size 432x288 with 1 Axes>"
      ]
     },
     "metadata": {
      "needs_background": "light"
     },
     "output_type": "display_data"
    }
   ],
   "source": [
    "max_df.boxplot(column = ['Tumor Volume (mm3)'],by = 'Drug Regimen')"
   ]
  },
  {
   "cell_type": "markdown",
   "metadata": {},
   "source": [
    "## Line and Scatter Plots\n"
   ]
  },
  {
   "cell_type": "code",
   "execution_count": 21,
   "metadata": {},
   "outputs": [
    {
     "data": {
      "image/png": "[encoded data removed]",
      "text/plain": [
       "<Figure size 432x288 with 1 Axes>"
      ]
     },
     "metadata": {
      "needs_background": "light"
     },
     "output_type": "display_data"
    }
   ],
   "source": [
    " # Generate a line plot of tumor volume vs. time point for a mouse treated with Capomulin\n",
    "capomulin = original_df[original_df['Drug Regimen']=='Capomulin']\n",
    "#change index to mouse ID \n",
    "df = capomulin.set_index('Mouse ID')\n",
    "#remove other mouse IDs so only s185 shows\n",
    "df = df.loc['s185']\n",
    "#set the x-axis equal to the Timepoint and y-axis to Tumor Volume\n",
    "plt.plot(df['Timepoint'], df['Tumor Volume (mm3)'])\n",
    "plt.xlabel('Time Point')\n",
    "plt.ylabel('Tumor Volume (mm3)')\n",
    "plt.title('Capomulin Results for Mouse s185')\n",
    "plt.show()"
   ]
  },
  {
   "cell_type": "code",
   "execution_count": 24,
   "metadata": {},
   "outputs": [
    {
     "data": {
      "image/png": "[encoded data removed]",
      "text/plain": [
       "<Figure size 432x288 with 1 Axes>"
      ]
     },
     "metadata": {
      "needs_background": "light"
     },
     "output_type": "display_data"
    }
   ],
   "source": [
    "# Generate a scatter plot of average tumor volume vs. mouse weight for the Capomulin regimen\n",
    "# group by mouse ID to find average tumor volume\n",
    "y = capomulin.groupby('Mouse ID')['Tumor Volume (mm3)'].mean()\n",
    "\n",
    "# establish x-axis value for the weight of the mice\n",
    "x = capomulin.groupby('Mouse ID')['Weight (g)'].mean()\n",
    "\n",
    "# produce scatter plot of the data\n",
    "plt.scatter(x, y)\n",
    "plt.xlabel('Mouse Weight (g)')\n",
    "plt.ylabel('Tumor Volume Average')\n",
    "plt.title('Tumor Volume Average vs Mouse Weight')\n",
    "plt.show()"
   ]
  },
  {
   "cell_type": "markdown",
   "metadata": {},
   "source": [
    "## Correlation and Regression"
   ]
  },
  {
   "cell_type": "code",
   "execution_count": 31,
   "metadata": {},
   "outputs": [
    {
     "name": "stdout",
     "output_type": "stream",
     "text": [
      "The correlation between both factors is 0.84\n"
     ]
    },
    {
     "data": {
      "image/png": "[encoded data removed]",
      "text/plain": [
       "<Figure size 432x288 with 1 Axes>"
      ]
     },
     "metadata": {
      "needs_background": "light"
     },
     "output_type": "display_data"
    }
   ],
   "source": [
    "# Calculate the correlation coefficient and linear regression model \n",
    "# for mouse weight and average tumor volume for the Capomulin regimen\n",
    "#establish x and y values and find St. Pearson Correlation Coefficient for Mouse Weight and Tumor Volume Avg\n",
    "corr = st.pearsonr(x, y)\n",
    "\n",
    "#print St. Pearson Correlation Coefficient\n",
    "print('The correlation between both factors is', round(corr[0], 2))\n",
    "\n",
    "# establish linear regression values\n",
    "result = linregress(x, y)\n",
    "\n",
    "# linear regression line \n",
    "plt.plot(x, result.intercept + result.slope * x, 'r')\n",
    "\n",
    "# scatter plot of the data\n",
    "plt.scatter(x, y)\n",
    "plt.xlabel('Mouse Weight (g)')\n",
    "plt.ylabel('Tumor Volume Average')\n",
    "plt.show()"
   ]
  }
 ],
 "metadata": {
  "anaconda-cloud": {},
  "kernelspec": {
   "display_name": "Python 3",
   "language": "python",
   "name": "python3"
  },
  "language_info": {
   "codemirror_mode": {
    "name": "ipython",
    "version": 3
   },
   "file_extension": ".py",
   "mimetype": "text/x-python",
   "name": "python",
   "nbconvert_exporter": "python",
   "pygments_lexer": "ipython3",
   "version": "3.8.5"
  }
 },
 "nbformat": 4,
 "nbformat_minor": 4
}
